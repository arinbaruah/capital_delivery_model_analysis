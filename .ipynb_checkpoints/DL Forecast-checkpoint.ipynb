{
 "cells": [
  {
   "cell_type": "code",
   "execution_count": 6,
   "id": "9607d233",
   "metadata": {},
   "outputs": [],
   "source": [
    "import pandas as pd\n",
    "import numpy as np\n",
    "from sklearn.preprocessing import MinMaxScaler\n",
    "import tensorflow as tf\n",
    "from tensorflow.keras.models import Sequential\n",
    "from tensorflow.keras.layers import LSTM, Dense"
   ]
  },
  {
   "cell_type": "code",
   "execution_count": 7,
   "id": "944322ee",
   "metadata": {},
   "outputs": [
    {
     "data": {
      "text/html": [
       "<div>\n",
       "<style scoped>\n",
       "    .dataframe tbody tr th:only-of-type {\n",
       "        vertical-align: middle;\n",
       "    }\n",
       "\n",
       "    .dataframe tbody tr th {\n",
       "        vertical-align: top;\n",
       "    }\n",
       "\n",
       "    .dataframe thead th {\n",
       "        text-align: right;\n",
       "    }\n",
       "</style>\n",
       "<table border=\"1\" class=\"dataframe\">\n",
       "  <thead>\n",
       "    <tr style=\"text-align: right;\">\n",
       "      <th></th>\n",
       "      <th>ffc_band</th>\n",
       "      <th>yearmonth(bca)</th>\n",
       "      <th>Total</th>\n",
       "    </tr>\n",
       "  </thead>\n",
       "  <tbody>\n",
       "    <tr>\n",
       "      <th>0</th>\n",
       "      <td>10-20</td>\n",
       "      <td>2016 Feb</td>\n",
       "      <td>1</td>\n",
       "    </tr>\n",
       "    <tr>\n",
       "      <th>1</th>\n",
       "      <td>10-20</td>\n",
       "      <td>2016 Mar</td>\n",
       "      <td>0</td>\n",
       "    </tr>\n",
       "    <tr>\n",
       "      <th>2</th>\n",
       "      <td>10-20</td>\n",
       "      <td>2016 Apr</td>\n",
       "      <td>0</td>\n",
       "    </tr>\n",
       "    <tr>\n",
       "      <th>3</th>\n",
       "      <td>10-20</td>\n",
       "      <td>2016 May</td>\n",
       "      <td>0</td>\n",
       "    </tr>\n",
       "    <tr>\n",
       "      <th>4</th>\n",
       "      <td>10-20</td>\n",
       "      <td>2016 Jun</td>\n",
       "      <td>0</td>\n",
       "    </tr>\n",
       "  </tbody>\n",
       "</table>\n",
       "</div>"
      ],
      "text/plain": [
       "  ffc_band yearmonth(bca)  Total\n",
       "0    10-20       2016 Feb      1\n",
       "1    10-20       2016 Mar      0\n",
       "2    10-20       2016 Apr      0\n",
       "3    10-20       2016 May      0\n",
       "4    10-20       2016 Jun      0"
      ]
     },
     "execution_count": 7,
     "metadata": {},
     "output_type": "execute_result"
    }
   ],
   "source": [
    "df = pd.read_csv(\"data/project_tsibble.csv\")\n",
    "df.head()"
   ]
  },
  {
   "cell_type": "code",
   "execution_count": 8,
   "id": "1bc380bf",
   "metadata": {},
   "outputs": [],
   "source": [
    "values = df['Total'].values"
   ]
  },
  {
   "cell_type": "markdown",
   "id": "ce319854",
   "metadata": {},
   "source": [
    "# Normalise data using MinMax scaling"
   ]
  },
  {
   "cell_type": "code",
   "execution_count": 9,
   "id": "275c911d",
   "metadata": {},
   "outputs": [],
   "source": [
    "scaler = MinMaxScaler(feature_range=(0, 1))\n",
    "scaled_values = scaler.fit_transform(values.reshape(-1, 1))"
   ]
  },
  {
   "cell_type": "markdown",
   "id": "d37d745c",
   "metadata": {},
   "source": [
    "# Sequence creation for training"
   ]
  },
  {
   "cell_type": "code",
   "execution_count": 10,
   "id": "fea1a8ea",
   "metadata": {},
   "outputs": [],
   "source": [
    "def create_sequences(data, seq_length):\n",
    "    X, y = [], []\n",
    "    for i in range(len(data) - seq_length):\n",
    "        X.append(data[i:i+seq_length])\n",
    "        y.append(data[i+seq_length])\n",
    "    return np.array(X), np.array(y)\n",
    "\n",
    "SEQ_LENGTH = 5  # Number of time steps\n",
    "X, y = create_sequences(scaled_values, SEQ_LENGTH)\n",
    "\n",
    "# Split into training and test sets\n",
    "split = int(len(X) * 0.8)\n",
    "X_train, X_test = X[:split], X[split:]\n",
    "y_train, y_test = y[:split], y[split:]"
   ]
  },
  {
   "cell_type": "markdown",
   "id": "5d1850fa",
   "metadata": {},
   "source": [
    "# Building the LSTM "
   ]
  },
  {
   "cell_type": "code",
   "execution_count": 11,
   "id": "152b81ae",
   "metadata": {},
   "outputs": [
    {
     "name": "stdout",
     "output_type": "stream",
     "text": [
      "WARNING:tensorflow:Layer lstm will not use cuDNN kernels since it doesn't meet the criteria. It will use a generic GPU kernel as fallback when running on GPU.\n"
     ]
    },
    {
     "name": "stderr",
     "output_type": "stream",
     "text": [
      "2024-08-15 04:40:05.876862: I metal_plugin/src/device/metal_device.cc:1154] Metal device set to: Apple M2\n",
      "2024-08-15 04:40:05.876930: I metal_plugin/src/device/metal_device.cc:296] systemMemory: 8.00 GB\n",
      "2024-08-15 04:40:05.876945: I metal_plugin/src/device/metal_device.cc:313] maxCacheSize: 2.67 GB\n",
      "2024-08-15 04:40:05.877244: I tensorflow/core/common_runtime/pluggable_device/pluggable_device_factory.cc:306] Could not identify NUMA node of platform GPU ID 0, defaulting to 0. Your kernel may not have been built with NUMA support.\n",
      "2024-08-15 04:40:05.877725: I tensorflow/core/common_runtime/pluggable_device/pluggable_device_factory.cc:272] Created TensorFlow device (/job:localhost/replica:0/task:0/device:GPU:0 with 0 MB memory) -> physical PluggableDevice (device: 0, name: METAL, pci bus id: <undefined>)\n"
     ]
    }
   ],
   "source": [
    "import tensorflow as tf\n",
    "from tensorflow.keras.models import Sequential\n",
    "from tensorflow.keras.layers import LSTM, Dense\n",
    "\n",
    "model = Sequential([\n",
    "    LSTM(50, activation='relu', input_shape=(SEQ_LENGTH, 1)),\n",
    "    Dense(1)\n",
    "])\n",
    "\n",
    "model.compile(optimizer='adam', loss='mean_squared_error')"
   ]
  },
  {
   "cell_type": "markdown",
   "id": "1b03d41e",
   "metadata": {},
   "source": [
    "# Training the model"
   ]
  },
  {
   "cell_type": "code",
   "execution_count": 12,
   "id": "1890b4ad",
   "metadata": {
    "scrolled": true
   },
   "outputs": [
    {
     "name": "stdout",
     "output_type": "stream",
     "text": [
      "WARNING:tensorflow:Layer lstm_1 will not use cuDNN kernels since it doesn't meet the criteria. It will use a generic GPU kernel as fallback when running on GPU.\n",
      "Epoch 1/50\n"
     ]
    },
    {
     "name": "stderr",
     "output_type": "stream",
     "text": [
      "2024-08-15 04:40:19.638293: I tensorflow/core/grappler/optimizers/custom_graph_optimizer_registry.cc:117] Plugin optimizer for device_type GPU is enabled.\n"
     ]
    },
    {
     "name": "stdout",
     "output_type": "stream",
     "text": [
      "73/73 [==============================] - 7s 42ms/step - loss: 0.0184 - val_loss: 0.0026\n",
      "Epoch 2/50\n",
      "73/73 [==============================] - 1s 13ms/step - loss: 0.0146 - val_loss: 0.0022\n",
      "Epoch 3/50\n",
      "73/73 [==============================] - 1s 13ms/step - loss: 0.0129 - val_loss: 8.8049e-04\n",
      "Epoch 4/50\n",
      "73/73 [==============================] - 1s 13ms/step - loss: 0.0124 - val_loss: 0.0013\n",
      "Epoch 5/50\n",
      "73/73 [==============================] - 1s 12ms/step - loss: 0.0121 - val_loss: 0.0011\n",
      "Epoch 6/50\n",
      "73/73 [==============================] - 1s 13ms/step - loss: 0.0120 - val_loss: 8.9471e-04\n",
      "Epoch 7/50\n",
      "73/73 [==============================] - 1s 15ms/step - loss: 0.0121 - val_loss: 0.0012\n",
      "Epoch 8/50\n",
      "73/73 [==============================] - 1s 16ms/step - loss: 0.0119 - val_loss: 9.5064e-04\n",
      "Epoch 9/50\n",
      "73/73 [==============================] - 1s 13ms/step - loss: 0.0119 - val_loss: 0.0013\n",
      "Epoch 10/50\n",
      "73/73 [==============================] - 1s 13ms/step - loss: 0.0117 - val_loss: 0.0011\n",
      "Epoch 11/50\n",
      "73/73 [==============================] - 1s 15ms/step - loss: 0.0117 - val_loss: 0.0011\n",
      "Epoch 12/50\n",
      "73/73 [==============================] - 1s 13ms/step - loss: 0.0114 - val_loss: 0.0011\n",
      "Epoch 13/50\n",
      "73/73 [==============================] - 1s 16ms/step - loss: 0.0115 - val_loss: 0.0011\n",
      "Epoch 14/50\n",
      "73/73 [==============================] - 1s 13ms/step - loss: 0.0113 - val_loss: 0.0013\n",
      "Epoch 15/50\n",
      "73/73 [==============================] - 1s 14ms/step - loss: 0.0113 - val_loss: 9.5622e-04\n",
      "Epoch 16/50\n",
      "73/73 [==============================] - 1s 14ms/step - loss: 0.0111 - val_loss: 9.5287e-04\n",
      "Epoch 17/50\n",
      "73/73 [==============================] - 1s 15ms/step - loss: 0.0109 - val_loss: 0.0014\n",
      "Epoch 18/50\n",
      "73/73 [==============================] - 1s 14ms/step - loss: 0.0109 - val_loss: 0.0011\n",
      "Epoch 19/50\n",
      "73/73 [==============================] - 1s 14ms/step - loss: 0.0109 - val_loss: 9.7049e-04\n",
      "Epoch 20/50\n",
      "73/73 [==============================] - 1s 14ms/step - loss: 0.0108 - val_loss: 0.0012\n",
      "Epoch 21/50\n",
      "73/73 [==============================] - 1s 12ms/step - loss: 0.0109 - val_loss: 9.8153e-04\n",
      "Epoch 22/50\n",
      "73/73 [==============================] - 1s 13ms/step - loss: 0.0108 - val_loss: 0.0011\n",
      "Epoch 23/50\n",
      "73/73 [==============================] - 1s 13ms/step - loss: 0.0108 - val_loss: 0.0011\n",
      "Epoch 24/50\n",
      "73/73 [==============================] - 1s 12ms/step - loss: 0.0107 - val_loss: 9.6608e-04\n",
      "Epoch 25/50\n",
      "73/73 [==============================] - 1s 12ms/step - loss: 0.0107 - val_loss: 0.0011\n",
      "Epoch 26/50\n",
      "73/73 [==============================] - 1s 12ms/step - loss: 0.0105 - val_loss: 0.0010\n",
      "Epoch 27/50\n",
      "73/73 [==============================] - 1s 13ms/step - loss: 0.0106 - val_loss: 9.9989e-04\n",
      "Epoch 28/50\n",
      "73/73 [==============================] - 1s 12ms/step - loss: 0.0106 - val_loss: 0.0011\n",
      "Epoch 29/50\n",
      "73/73 [==============================] - 1s 13ms/step - loss: 0.0105 - val_loss: 9.1919e-04\n",
      "Epoch 30/50\n",
      "73/73 [==============================] - 1s 13ms/step - loss: 0.0106 - val_loss: 0.0011\n",
      "Epoch 31/50\n",
      "73/73 [==============================] - 1s 12ms/step - loss: 0.0105 - val_loss: 0.0011\n",
      "Epoch 32/50\n",
      "73/73 [==============================] - 1s 12ms/step - loss: 0.0104 - val_loss: 0.0012\n",
      "Epoch 33/50\n",
      "73/73 [==============================] - 1s 14ms/step - loss: 0.0105 - val_loss: 9.1358e-04\n",
      "Epoch 34/50\n",
      "73/73 [==============================] - 1s 13ms/step - loss: 0.0105 - val_loss: 0.0011\n",
      "Epoch 35/50\n",
      "73/73 [==============================] - 1s 13ms/step - loss: 0.0104 - val_loss: 8.9708e-04\n",
      "Epoch 36/50\n",
      "73/73 [==============================] - 1s 13ms/step - loss: 0.0104 - val_loss: 9.4029e-04\n",
      "Epoch 37/50\n",
      "73/73 [==============================] - 1s 13ms/step - loss: 0.0103 - val_loss: 8.6554e-04\n",
      "Epoch 38/50\n",
      "73/73 [==============================] - 1s 13ms/step - loss: 0.0104 - val_loss: 9.8317e-04\n",
      "Epoch 39/50\n",
      "73/73 [==============================] - 1s 13ms/step - loss: 0.0103 - val_loss: 0.0010\n",
      "Epoch 40/50\n",
      "73/73 [==============================] - 1s 12ms/step - loss: 0.0103 - val_loss: 9.9052e-04\n",
      "Epoch 41/50\n",
      "73/73 [==============================] - 1s 12ms/step - loss: 0.0104 - val_loss: 0.0011\n",
      "Epoch 42/50\n",
      "73/73 [==============================] - 1s 13ms/step - loss: 0.0104 - val_loss: 0.0010\n",
      "Epoch 43/50\n",
      "73/73 [==============================] - 1s 13ms/step - loss: 0.0104 - val_loss: 0.0010\n",
      "Epoch 44/50\n",
      "73/73 [==============================] - 1s 13ms/step - loss: 0.0103 - val_loss: 0.0011\n",
      "Epoch 45/50\n",
      "73/73 [==============================] - 1s 13ms/step - loss: 0.0103 - val_loss: 9.8508e-04\n",
      "Epoch 46/50\n",
      "73/73 [==============================] - 1s 12ms/step - loss: 0.0104 - val_loss: 0.0012\n",
      "Epoch 47/50\n",
      "73/73 [==============================] - 1s 13ms/step - loss: 0.0103 - val_loss: 9.0913e-04\n",
      "Epoch 48/50\n",
      "73/73 [==============================] - 1s 12ms/step - loss: 0.0101 - val_loss: 0.0011\n",
      "Epoch 49/50\n",
      "73/73 [==============================] - 1s 12ms/step - loss: 0.0102 - val_loss: 8.6114e-04\n",
      "Epoch 50/50\n",
      "73/73 [==============================] - 1s 12ms/step - loss: 0.0102 - val_loss: 0.0011\n"
     ]
    }
   ],
   "source": [
    "BATCH_SIZE = 10  # or 8\n",
    "SEQ_LENGTH = 3   # Try reducing this\n",
    "\n",
    "X, y = create_sequences(scaled_values, SEQ_LENGTH)\n",
    "X_train, X_test = X[:split], X[split:]\n",
    "y_train, y_test = y[:split], y[split:]\n",
    "\n",
    "# Rebuild model with updated parameters\n",
    "model = Sequential([\n",
    "    LSTM(50, activation='relu', input_shape=(SEQ_LENGTH, 1)),\n",
    "    Dense(1)\n",
    "])\n",
    "\n",
    "model.compile(optimizer='adam', loss='mean_squared_error')\n",
    "\n",
    "# Fit the model with reduced batch size\n",
    "history = model.fit(X_train, y_train, epochs=50, batch_size=BATCH_SIZE, validation_data=(X_test, y_test))"
   ]
  },
  {
   "cell_type": "markdown",
   "id": "8099b595",
   "metadata": {},
   "source": [
    "# Testing"
   ]
  },
  {
   "cell_type": "code",
   "execution_count": 13,
   "id": "ed52ab3c",
   "metadata": {},
   "outputs": [
    {
     "name": "stdout",
     "output_type": "stream",
     "text": [
      "6/6 [==============================] - 0s 18ms/step - loss: 0.0011\n",
      "Test Loss: 0.001059925532899797\n",
      "6/6 [==============================] - 0s 8ms/step\n"
     ]
    },
    {
     "data": {
      "image/png": "[encoded data removed]",
      "text/plain": [
       "<Figure size 1200x600 with 1 Axes>"
      ]
     },
     "metadata": {},
     "output_type": "display_data"
    }
   ],
   "source": [
    "import matplotlib.pyplot as plt\n",
    "\n",
    "# Evaluate the model\n",
    "loss = model.evaluate(X_test, y_test)\n",
    "print(f\"Test Loss: {loss}\")\n",
    "\n",
    "# Make predictions\n",
    "predictions = model.predict(X_test)\n",
    "\n",
    "# Inverse transform to original scale\n",
    "predictions = scaler.inverse_transform(predictions)\n",
    "y_test = scaler.inverse_transform(y_test.reshape(-1, 1))\n",
    "\n",
    "# Plot results\n",
    "plt.figure(figsize=(12, 6))\n",
    "plt.plot(np.arange(len(y_test)), y_test, label='True Values')\n",
    "plt.plot(np.arange(len(predictions)), predictions, label='Predictions')\n",
    "plt.legend()\n",
    "plt.show()"
   ]
  },
  {
   "cell_type": "code",
   "execution_count": 17,
   "id": "52a1fee5",
   "metadata": {},
   "outputs": [
    {
     "name": "stdout",
     "output_type": "stream",
     "text": [
      "6/6 [==============================] - 0s 4ms/step\n",
      "Mean Absolute Error (MAE): 0.8811\n",
      "Mean Squared Error (MSE): 7.9376\n",
      "Root Mean Squared Error (RMSE): 2.8174\n"
     ]
    }
   ],
   "source": [
    "from sklearn.metrics import mean_absolute_error, mean_squared_error\n",
    "import numpy as np\n",
    "\n",
    "# Predictions and true values\n",
    "predictions = model.predict(X_test)\n",
    "predictions = scaler.inverse_transform(predictions)\n",
    "y_test_actual = scaler.inverse_transform(y_test.reshape(-1, 1))\n",
    "\n",
    "# Calculate metrics\n",
    "mae = mean_absolute_error(y_test_actual, predictions)\n",
    "mse = mean_squared_error(y_test_actual, predictions)\n",
    "rmse = np.sqrt(mse)\n",
    "\n",
    "print(f\"Mean Absolute Error (MAE): {mae:.4f}\")\n",
    "print(f\"Mean Squared Error (MSE): {mse:.4f}\")\n",
    "print(f\"Root Mean Squared Error (RMSE): {rmse:.4f}\")"
   ]
  },
  {
   "cell_type": "code",
   "execution_count": null,
   "id": "2319b47d",
   "metadata": {},
   "outputs": [],
   "source": []
  }
 ],
 "metadata": {
  "kernelspec": {
   "display_name": "Python 3 (ipykernel)",
   "language": "python",
   "name": "python3"
  },
  "language_info": {
   "codemirror_mode": {
    "name": "ipython",
    "version": 3
   },
   "file_extension": ".py",
   "mimetype": "text/x-python",
   "name": "python",
   "nbconvert_exporter": "python",
   "pygments_lexer": "ipython3",
   "version": "3.11.5"
  }
 },
 "nbformat": 4,
 "nbformat_minor": 5
}
