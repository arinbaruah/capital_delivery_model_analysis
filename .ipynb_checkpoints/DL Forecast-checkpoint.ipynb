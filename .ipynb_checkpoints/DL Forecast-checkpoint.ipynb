{
 "cells": [
  {
   "cell_type": "code",
   "execution_count": 4,
   "id": "9607d233",
   "metadata": {},
   "outputs": [],
   "source": [
    "import pandas as pd\n",
    "import numpy as np\n",
    "from sklearn.preprocessing import MinMaxScaler\n",
    "import tensorflow as tf\n",
    "from tensorflow.keras.models import Sequential\n",
    "from tensorflow.keras.layers import LSTM, Dense"
   ]
  },
  {
   "cell_type": "code",
   "execution_count": 5,
   "id": "944322ee",
   "metadata": {},
   "outputs": [
    {
     "data": {
      "text/html": [
       "<div>\n",
       "<style scoped>\n",
       "    .dataframe tbody tr th:only-of-type {\n",
       "        vertical-align: middle;\n",
       "    }\n",
       "\n",
       "    .dataframe tbody tr th {\n",
       "        vertical-align: top;\n",
       "    }\n",
       "\n",
       "    .dataframe thead th {\n",
       "        text-align: right;\n",
       "    }\n",
       "</style>\n",
       "<table border=\"1\" class=\"dataframe\">\n",
       "  <thead>\n",
       "    <tr style=\"text-align: right;\">\n",
       "      <th></th>\n",
       "      <th>ffc_band</th>\n",
       "      <th>yearmonth(bca)</th>\n",
       "      <th>Total</th>\n",
       "    </tr>\n",
       "  </thead>\n",
       "  <tbody>\n",
       "    <tr>\n",
       "      <th>0</th>\n",
       "      <td>10-20</td>\n",
       "      <td>2016 Feb</td>\n",
       "      <td>1</td>\n",
       "    </tr>\n",
       "    <tr>\n",
       "      <th>1</th>\n",
       "      <td>10-20</td>\n",
       "      <td>2016 Mar</td>\n",
       "      <td>0</td>\n",
       "    </tr>\n",
       "    <tr>\n",
       "      <th>2</th>\n",
       "      <td>10-20</td>\n",
       "      <td>2016 Apr</td>\n",
       "      <td>0</td>\n",
       "    </tr>\n",
       "    <tr>\n",
       "      <th>3</th>\n",
       "      <td>10-20</td>\n",
       "      <td>2016 May</td>\n",
       "      <td>0</td>\n",
       "    </tr>\n",
       "    <tr>\n",
       "      <th>4</th>\n",
       "      <td>10-20</td>\n",
       "      <td>2016 Jun</td>\n",
       "      <td>0</td>\n",
       "    </tr>\n",
       "  </tbody>\n",
       "</table>\n",
       "</div>"
      ],
      "text/plain": [
       "  ffc_band yearmonth(bca)  Total\n",
       "0    10-20       2016 Feb      1\n",
       "1    10-20       2016 Mar      0\n",
       "2    10-20       2016 Apr      0\n",
       "3    10-20       2016 May      0\n",
       "4    10-20       2016 Jun      0"
      ]
     },
     "execution_count": 5,
     "metadata": {},
     "output_type": "execute_result"
    }
   ],
   "source": [
    "df = pd.read_csv(\"data/project_tsibble.csv\")\n",
    "df.head()"
   ]
  },
  {
   "cell_type": "markdown",
   "id": "13268cc2",
   "metadata": {},
   "source": [
    "# Convert to dates"
   ]
  },
  {
   "cell_type": "code",
   "execution_count": 6,
   "id": "7972a5d4",
   "metadata": {},
   "outputs": [
    {
     "name": "stderr",
     "output_type": "stream",
     "text": [
      "/var/folders/bl/615qdshd0qj1cddydmjsmf800000gn/T/ipykernel_66304/1694602386.py:1: UserWarning: Could not infer format, so each element will be parsed individually, falling back to `dateutil`. To ensure parsing is consistent and as-expected, please specify a format.\n",
      "  df[\"Timeline\"] = pd.to_datetime(df['yearmonth(bca)']).dt.date\n"
     ]
    }
   ],
   "source": [
    "df[\"Timeline\"] = pd.to_datetime(df['yearmonth(bca)']).dt.date"
   ]
  },
  {
   "cell_type": "code",
   "execution_count": 7,
   "id": "7a7676c0",
   "metadata": {},
   "outputs": [],
   "source": [
    "df = df.drop('yearmonth(bca)',axis = 1) # Removing yearmonth column\n",
    "\n"
   ]
  },
  {
   "cell_type": "code",
   "execution_count": 8,
   "id": "8e7db6f9",
   "metadata": {},
   "outputs": [
    {
     "data": {
      "text/html": [
       "<div>\n",
       "<style scoped>\n",
       "    .dataframe tbody tr th:only-of-type {\n",
       "        vertical-align: middle;\n",
       "    }\n",
       "\n",
       "    .dataframe tbody tr th {\n",
       "        vertical-align: top;\n",
       "    }\n",
       "\n",
       "    .dataframe thead th {\n",
       "        text-align: right;\n",
       "    }\n",
       "</style>\n",
       "<table border=\"1\" class=\"dataframe\">\n",
       "  <thead>\n",
       "    <tr style=\"text-align: right;\">\n",
       "      <th></th>\n",
       "      <th>Timeline</th>\n",
       "      <th>ffc_band</th>\n",
       "      <th>Total</th>\n",
       "    </tr>\n",
       "  </thead>\n",
       "  <tbody>\n",
       "    <tr>\n",
       "      <th>0</th>\n",
       "      <td>2016-02-01</td>\n",
       "      <td>10-20</td>\n",
       "      <td>1</td>\n",
       "    </tr>\n",
       "    <tr>\n",
       "      <th>1</th>\n",
       "      <td>2016-03-01</td>\n",
       "      <td>10-20</td>\n",
       "      <td>0</td>\n",
       "    </tr>\n",
       "    <tr>\n",
       "      <th>2</th>\n",
       "      <td>2016-04-01</td>\n",
       "      <td>10-20</td>\n",
       "      <td>0</td>\n",
       "    </tr>\n",
       "    <tr>\n",
       "      <th>3</th>\n",
       "      <td>2016-05-01</td>\n",
       "      <td>10-20</td>\n",
       "      <td>0</td>\n",
       "    </tr>\n",
       "    <tr>\n",
       "      <th>4</th>\n",
       "      <td>2016-06-01</td>\n",
       "      <td>10-20</td>\n",
       "      <td>0</td>\n",
       "    </tr>\n",
       "    <tr>\n",
       "      <th>...</th>\n",
       "      <td>...</td>\n",
       "      <td>...</td>\n",
       "      <td>...</td>\n",
       "    </tr>\n",
       "    <tr>\n",
       "      <th>909</th>\n",
       "      <td>2030-08-01</td>\n",
       "      <td>&gt; 80</td>\n",
       "      <td>0</td>\n",
       "    </tr>\n",
       "    <tr>\n",
       "      <th>910</th>\n",
       "      <td>2030-09-01</td>\n",
       "      <td>&gt; 80</td>\n",
       "      <td>0</td>\n",
       "    </tr>\n",
       "    <tr>\n",
       "      <th>911</th>\n",
       "      <td>2030-10-01</td>\n",
       "      <td>&gt; 80</td>\n",
       "      <td>0</td>\n",
       "    </tr>\n",
       "    <tr>\n",
       "      <th>912</th>\n",
       "      <td>2030-11-01</td>\n",
       "      <td>&gt; 80</td>\n",
       "      <td>0</td>\n",
       "    </tr>\n",
       "    <tr>\n",
       "      <th>913</th>\n",
       "      <td>2030-12-01</td>\n",
       "      <td>&gt; 80</td>\n",
       "      <td>1</td>\n",
       "    </tr>\n",
       "  </tbody>\n",
       "</table>\n",
       "<p>914 rows × 3 columns</p>\n",
       "</div>"
      ],
      "text/plain": [
       "       Timeline ffc_band  Total\n",
       "0    2016-02-01    10-20      1\n",
       "1    2016-03-01    10-20      0\n",
       "2    2016-04-01    10-20      0\n",
       "3    2016-05-01    10-20      0\n",
       "4    2016-06-01    10-20      0\n",
       "..          ...      ...    ...\n",
       "909  2030-08-01     > 80      0\n",
       "910  2030-09-01     > 80      0\n",
       "911  2030-10-01     > 80      0\n",
       "912  2030-11-01     > 80      0\n",
       "913  2030-12-01     > 80      1\n",
       "\n",
       "[914 rows x 3 columns]"
      ]
     },
     "execution_count": 8,
     "metadata": {},
     "output_type": "execute_result"
    }
   ],
   "source": [
    "df = df[[\"Timeline\",\"ffc_band\",\"Total\"]]  # Rearranging all columns\n",
    "df"
   ]
  },
  {
   "cell_type": "markdown",
   "id": "76ca5e0a",
   "metadata": {},
   "source": [
    "# Filtering the data to keep only projects with FFC_band < 5 mil "
   ]
  },
  {
   "cell_type": "code",
   "execution_count": 9,
   "id": "a6fa95f4",
   "metadata": {},
   "outputs": [],
   "source": [
    "df = df[df['ffc_band'] == \"< = 5\"]\n",
    "values = df['Total'].values"
   ]
  },
  {
   "cell_type": "markdown",
   "id": "ce319854",
   "metadata": {},
   "source": [
    "# Normalise data using MinMax scaling"
   ]
  },
  {
   "cell_type": "code",
   "execution_count": 10,
   "id": "275c911d",
   "metadata": {},
   "outputs": [],
   "source": [
    "scaler = MinMaxScaler(feature_range=(0, 1))\n",
    "scaled_values = scaler.fit_transform(values.reshape(-1, 1))"
   ]
  },
  {
   "cell_type": "markdown",
   "id": "d37d745c",
   "metadata": {},
   "source": [
    "# Sequence creation for training"
   ]
  },
  {
   "cell_type": "code",
   "execution_count": 11,
   "id": "fea1a8ea",
   "metadata": {},
   "outputs": [],
   "source": [
    "def create_sequences(data, seq_length):\n",
    "    X, y = [], []\n",
    "    for i in range(len(data) - seq_length):\n",
    "        X.append(data[i:i+seq_length])\n",
    "        y.append(data[i+seq_length])\n",
    "    return np.array(X), np.array(y)\n",
    "\n",
    "SEQ_LENGTH = 5  # Number of time steps\n",
    "X, y = create_sequences(scaled_values, SEQ_LENGTH)\n",
    "\n",
    "# Split into training and test sets\n",
    "split = int(len(X) * 0.8)\n",
    "X_train, X_test = X[:split], X[split:]\n",
    "y_train, y_test = y[:split], y[split:]"
   ]
  },
  {
   "cell_type": "markdown",
   "id": "5d1850fa",
   "metadata": {},
   "source": [
    "# Building the LSTM "
   ]
  },
  {
   "cell_type": "code",
   "execution_count": 12,
   "id": "152b81ae",
   "metadata": {},
   "outputs": [
    {
     "name": "stdout",
     "output_type": "stream",
     "text": [
      "WARNING:tensorflow:Layer lstm_1 will not use cuDNN kernels since it doesn't meet the criteria. It will use a generic GPU kernel as fallback when running on GPU.\n"
     ]
    }
   ],
   "source": [
    "import tensorflow as tf\n",
    "from tensorflow.keras.models import Sequential\n",
    "from tensorflow.keras.layers import LSTM, Dense\n",
    "\n",
    "model = Sequential([\n",
    "    LSTM(50, activation='relu', input_shape=(SEQ_LENGTH, 1)),\n",
    "    Dense(1)\n",
    "])\n",
    "\n",
    "model.compile(optimizer='adam', loss='mean_squared_error')"
   ]
  },
  {
   "cell_type": "markdown",
   "id": "1b03d41e",
   "metadata": {},
   "source": [
    "# Training the model"
   ]
  },
  {
   "cell_type": "code",
   "execution_count": 13,
   "id": "1890b4ad",
   "metadata": {
    "scrolled": true
   },
   "outputs": [
    {
     "name": "stdout",
     "output_type": "stream",
     "text": [
      "WARNING:tensorflow:Layer lstm_2 will not use cuDNN kernels since it doesn't meet the criteria. It will use a generic GPU kernel as fallback when running on GPU.\n",
      "Epoch 1/50\n"
     ]
    },
    {
     "name": "stderr",
     "output_type": "stream",
     "text": [
      "2024-08-15 16:46:19.695140: I tensorflow/core/grappler/optimizers/custom_graph_optimizer_registry.cc:117] Plugin optimizer for device_type GPU is enabled.\n"
     ]
    },
    {
     "name": "stdout",
     "output_type": "stream",
     "text": [
      "23/23 [==============================] - 4s 99ms/step - loss: 0.0995 - val_loss: 0.0042\n",
      "Epoch 2/50\n",
      "23/23 [==============================] - 0s 13ms/step - loss: 0.0658 - val_loss: 0.0221\n",
      "Epoch 3/50\n",
      "23/23 [==============================] - 0s 13ms/step - loss: 0.0523 - val_loss: 0.0362\n",
      "Epoch 4/50\n",
      "23/23 [==============================] - 0s 13ms/step - loss: 0.0525 - val_loss: 0.0315\n",
      "Epoch 5/50\n",
      "23/23 [==============================] - 0s 13ms/step - loss: 0.0522 - val_loss: 0.0310\n",
      "Epoch 6/50\n",
      "23/23 [==============================] - 0s 13ms/step - loss: 0.0521 - val_loss: 0.0301\n",
      "Epoch 7/50\n",
      "23/23 [==============================] - 0s 13ms/step - loss: 0.0518 - val_loss: 0.0315\n",
      "Epoch 8/50\n",
      "23/23 [==============================] - 0s 14ms/step - loss: 0.0527 - val_loss: 0.0285\n",
      "Epoch 9/50\n",
      "23/23 [==============================] - 0s 13ms/step - loss: 0.0519 - val_loss: 0.0303\n",
      "Epoch 10/50\n",
      "23/23 [==============================] - 0s 13ms/step - loss: 0.0518 - val_loss: 0.0320\n",
      "Epoch 11/50\n",
      "23/23 [==============================] - 0s 13ms/step - loss: 0.0516 - val_loss: 0.0305\n",
      "Epoch 12/50\n",
      "23/23 [==============================] - 0s 14ms/step - loss: 0.0514 - val_loss: 0.0292\n",
      "Epoch 13/50\n",
      "23/23 [==============================] - 0s 13ms/step - loss: 0.0516 - val_loss: 0.0290\n",
      "Epoch 14/50\n",
      "23/23 [==============================] - 0s 13ms/step - loss: 0.0511 - val_loss: 0.0300\n",
      "Epoch 15/50\n",
      "23/23 [==============================] - 0s 13ms/step - loss: 0.0518 - val_loss: 0.0260\n",
      "Epoch 16/50\n",
      "23/23 [==============================] - 0s 13ms/step - loss: 0.0530 - val_loss: 0.0312\n",
      "Epoch 17/50\n",
      "23/23 [==============================] - 0s 13ms/step - loss: 0.0519 - val_loss: 0.0250\n",
      "Epoch 18/50\n",
      "23/23 [==============================] - 0s 13ms/step - loss: 0.0504 - val_loss: 0.0244\n",
      "Epoch 19/50\n",
      "23/23 [==============================] - 0s 13ms/step - loss: 0.0502 - val_loss: 0.0236\n",
      "Epoch 20/50\n",
      "23/23 [==============================] - 0s 13ms/step - loss: 0.0501 - val_loss: 0.0230\n",
      "Epoch 21/50\n",
      "23/23 [==============================] - 0s 13ms/step - loss: 0.0501 - val_loss: 0.0219\n",
      "Epoch 22/50\n",
      "23/23 [==============================] - 0s 13ms/step - loss: 0.0498 - val_loss: 0.0213\n",
      "Epoch 23/50\n",
      "23/23 [==============================] - 0s 13ms/step - loss: 0.0495 - val_loss: 0.0175\n",
      "Epoch 24/50\n",
      "23/23 [==============================] - 0s 13ms/step - loss: 0.0493 - val_loss: 0.0215\n",
      "Epoch 25/50\n",
      "23/23 [==============================] - 0s 13ms/step - loss: 0.0494 - val_loss: 0.0170\n",
      "Epoch 26/50\n",
      "23/23 [==============================] - 0s 13ms/step - loss: 0.0488 - val_loss: 0.0152\n",
      "Epoch 27/50\n",
      "23/23 [==============================] - 0s 13ms/step - loss: 0.0497 - val_loss: 0.0147\n",
      "Epoch 28/50\n",
      "23/23 [==============================] - 0s 13ms/step - loss: 0.0482 - val_loss: 0.0178\n",
      "Epoch 29/50\n",
      "23/23 [==============================] - 0s 13ms/step - loss: 0.0484 - val_loss: 0.0129\n",
      "Epoch 30/50\n",
      "23/23 [==============================] - 0s 13ms/step - loss: 0.0488 - val_loss: 0.0110\n",
      "Epoch 31/50\n",
      "23/23 [==============================] - 0s 13ms/step - loss: 0.0475 - val_loss: 0.0111\n",
      "Epoch 32/50\n",
      "23/23 [==============================] - 0s 13ms/step - loss: 0.0476 - val_loss: 0.0078\n",
      "Epoch 33/50\n",
      "23/23 [==============================] - 0s 13ms/step - loss: 0.0470 - val_loss: 0.0091\n",
      "Epoch 34/50\n",
      "23/23 [==============================] - 0s 13ms/step - loss: 0.0465 - val_loss: 0.0085\n",
      "Epoch 35/50\n",
      "23/23 [==============================] - 0s 13ms/step - loss: 0.0463 - val_loss: 0.0056\n",
      "Epoch 36/50\n",
      "23/23 [==============================] - 0s 13ms/step - loss: 0.0465 - val_loss: 0.0090\n",
      "Epoch 37/50\n",
      "23/23 [==============================] - 0s 13ms/step - loss: 0.0463 - val_loss: 0.0065\n",
      "Epoch 38/50\n",
      "23/23 [==============================] - 0s 13ms/step - loss: 0.0464 - val_loss: 0.0056\n",
      "Epoch 39/50\n",
      "23/23 [==============================] - 0s 13ms/step - loss: 0.0460 - val_loss: 0.0056\n",
      "Epoch 40/50\n",
      "23/23 [==============================] - 0s 13ms/step - loss: 0.0459 - val_loss: 0.0058\n",
      "Epoch 41/50\n",
      "23/23 [==============================] - 0s 13ms/step - loss: 0.0464 - val_loss: 0.0044\n",
      "Epoch 42/50\n",
      "23/23 [==============================] - 0s 13ms/step - loss: 0.0459 - val_loss: 0.0061\n",
      "Epoch 43/50\n",
      "23/23 [==============================] - 0s 13ms/step - loss: 0.0457 - val_loss: 0.0042\n",
      "Epoch 44/50\n",
      "23/23 [==============================] - 0s 13ms/step - loss: 0.0457 - val_loss: 0.0060\n",
      "Epoch 45/50\n",
      "23/23 [==============================] - 0s 13ms/step - loss: 0.0460 - val_loss: 0.0043\n",
      "Epoch 46/50\n",
      "23/23 [==============================] - 0s 13ms/step - loss: 0.0457 - val_loss: 0.0049\n",
      "Epoch 47/50\n",
      "23/23 [==============================] - 0s 13ms/step - loss: 0.0465 - val_loss: 0.0049\n",
      "Epoch 48/50\n",
      "23/23 [==============================] - 0s 13ms/step - loss: 0.0455 - val_loss: 0.0048\n",
      "Epoch 49/50\n",
      "23/23 [==============================] - 0s 13ms/step - loss: 0.0455 - val_loss: 0.0044\n",
      "Epoch 50/50\n",
      "23/23 [==============================] - 0s 13ms/step - loss: 0.0455 - val_loss: 0.0051\n"
     ]
    }
   ],
   "source": [
    "BATCH_SIZE = 5  # or 8\n",
    "SEQ_LENGTH = 3   # Try reducing this\n",
    "\n",
    "X, y = create_sequences(scaled_values, SEQ_LENGTH)\n",
    "X_train, X_test = X[:split], X[split:]\n",
    "y_train, y_test = y[:split], y[split:]\n",
    "\n",
    "# Rebuild model with updated parameters\n",
    "model = Sequential([\n",
    "    LSTM(50, activation='relu', input_shape=(SEQ_LENGTH, 1)),\n",
    "    Dense(1)\n",
    "])\n",
    "\n",
    "model.compile(optimizer='adam', loss='mean_squared_error')\n",
    "\n",
    "# Fit the model with reduced batch size\n",
    "history = model.fit(X_train, y_train, epochs=50, batch_size=BATCH_SIZE, validation_data=(X_test, y_test))"
   ]
  },
  {
   "cell_type": "markdown",
   "id": "8099b595",
   "metadata": {},
   "source": [
    "# Testing"
   ]
  },
  {
   "cell_type": "code",
   "execution_count": 14,
   "id": "ed52ab3c",
   "metadata": {},
   "outputs": [
    {
     "name": "stdout",
     "output_type": "stream",
     "text": [
      "1/1 [==============================] - 0s 42ms/step - loss: 0.0051\n",
      "Test Loss: 0.005105860065668821\n",
      "1/1 [==============================] - 0s 351ms/step\n"
     ]
    },
    {
     "data": {
      "image/png": "[encoded data removed]",
      "text/plain": [
       "<Figure size 1200x600 with 1 Axes>"
      ]
     },
     "metadata": {},
     "output_type": "display_data"
    }
   ],
   "source": [
    "import matplotlib.pyplot as plt\n",
    "\n",
    "# Evaluate the model\n",
    "loss = model.evaluate(X_test, y_test)\n",
    "print(f\"Test Loss: {loss}\")\n",
    "\n",
    "# Make predictions\n",
    "predictions = model.predict(X_test)\n",
    "\n",
    "# Inverse transform to original scale\n",
    "predictions = scaler.inverse_transform(predictions)\n",
    "y_test = scaler.inverse_transform(y_test.reshape(-1, 1))\n",
    "\n",
    "# Plot results\n",
    "plt.figure(figsize=(12, 6))\n",
    "plt.plot(np.arange(len(y_test)), y_test, label='True Values')\n",
    "plt.plot(np.arange(len(predictions)), predictions, label='Predictions')\n",
    "plt.legend()\n",
    "plt.show()"
   ]
  },
  {
   "cell_type": "code",
   "execution_count": 15,
   "id": "52a1fee5",
   "metadata": {},
   "outputs": [
    {
     "name": "stdout",
     "output_type": "stream",
     "text": [
      "1/1 [==============================] - 0s 12ms/step\n",
      "Mean Absolute Error (MAE): 2.0342\n",
      "Mean Squared Error (MSE): 15.3706\n",
      "Root Mean Squared Error (RMSE): 3.9205\n"
     ]
    }
   ],
   "source": [
    "from sklearn.metrics import mean_absolute_error, mean_squared_error\n",
    "import numpy as np\n",
    "\n",
    "# Predictions and true values\n",
    "predictions = model.predict(X_test)\n",
    "predictions = scaler.inverse_transform(predictions)\n",
    "y_test_actual = scaler.inverse_transform(y_test.reshape(-1, 1))\n",
    "\n",
    "# Calculate metrics\n",
    "mae = mean_absolute_error(y_test_actual, predictions)\n",
    "mse = mean_squared_error(y_test_actual, predictions)\n",
    "rmse = np.sqrt(mse)\n",
    "\n",
    "print(f\"Mean Absolute Error (MAE): {mae:.4f}\")\n",
    "print(f\"Mean Squared Error (MSE): {mse:.4f}\")\n",
    "print(f\"Root Mean Squared Error (RMSE): {rmse:.4f}\")"
   ]
  },
  {
   "cell_type": "code",
   "execution_count": null,
   "id": "2319b47d",
   "metadata": {},
   "outputs": [],
   "source": []
  }
 ],
 "metadata": {
  "kernelspec": {
   "display_name": "Python 3 (ipykernel)",
   "language": "python",
   "name": "python3"
  },
  "language_info": {
   "codemirror_mode": {
    "name": "ipython",
    "version": 3
   },
   "file_extension": ".py",
   "mimetype": "text/x-python",
   "name": "python",
   "nbconvert_exporter": "python",
   "pygments_lexer": "ipython3",
   "version": "3.11.5"
  }
 },
 "nbformat": 4,
 "nbformat_minor": 5
}
